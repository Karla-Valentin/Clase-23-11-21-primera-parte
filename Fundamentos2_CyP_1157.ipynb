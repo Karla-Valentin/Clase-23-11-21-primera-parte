{
  "nbformat": 4,
  "nbformat_minor": 0,
  "metadata": {
    "colab": {
      "name": "Fundamentos2_CyP_1157.ipynb",
      "provenance": [],
      "authorship_tag": "ABX9TyOrWpg8y5YUenV0z7r5Q/AG",
      "include_colab_link": true
    },
    "kernelspec": {
      "name": "python3",
      "display_name": "Python 3"
    },
    "language_info": {
      "name": "python"
    }
  },
  "cells": [
    {
      "cell_type": "markdown",
      "metadata": {
        "id": "view-in-github",
        "colab_type": "text"
      },
      "source": [
        "<a href=\"https://colab.research.google.com/github/Karla-Valentin/Clase-23-11-21-primera-parte/blob/main/Fundamentos2_CyP_1157.ipynb\" target=\"_parent\"><img src=\"https://colab.research.google.com/assets/colab-badge.svg\" alt=\"Open In Colab\"/></a>"
      ]
    },
    {
      "cell_type": "markdown",
      "metadata": {
        "id": "likrSB0OFUrU"
      },
      "source": [
        "# Tipos de datos estructurados en Python \n",
        "\n",
        "1. Listas\n",
        "2. Tuplas\n",
        "3. Diccionarios\n",
        "4. Conjuntos (opcional)\n"
      ]
    },
    {
      "cell_type": "markdown",
      "metadata": {
        "id": "eJCLexMGFjt4"
      },
      "source": [
        "# Listas\n",
        "\n",
        "-Tipo de dato que agrupa datos o valores.\n",
        "- Estructura secuencial (indexados empezando por 0)\n",
        "- Se declara de dos formas#\n",
        "      - usando [ ]\n",
        "      - usando list()\n",
        "      - usando un generador\n",
        "- Puede obtener tipos de datos diversos (en otros lenguajes de prog. eso no es posible de forma directa)\n",
        "- Los elemntos internos se seleccionan con [ ]\n",
        "-Soporta slicing \n",
        "- Son mutables \n",
        "- GENERADORES [ var for x in range [10]]\n",
        "- Al ser una clase contiene muchos métodos útiles\n"
      ]
    },
    {
      "cell_type": "code",
      "metadata": {
        "colab": {
          "base_uri": "https://localhost:8080/"
        },
        "id": "juc0t4QyGhET",
        "outputId": "73e34546-ae5a-4800-f1a4-11472a315ef1"
      },
      "source": [
        "numeros = [ 10,5,2, 3, 1 ]\n",
        "print(numeros)\n",
        "\n",
        "# append para agregar elementos a la lista \n",
        "numeros2 = list()\n",
        "numeros2.append(10)\n",
        "numeros2.append(5)\n",
        "numeros2.append(2)\n",
        "numeros2.append(3)\n",
        "numeros2.append(1)\n",
        "print(numeros2)\n",
        "numeros[2] = 20 #Para cambiar el 2 a un 20\n",
        "print(numeros)\n",
        "numeros[4] = 33\n",
        "print(numeros)\n",
        "numeros[-1] = 33 #Con indexado negativo también se puede hacer\n",
        "print(numeros)\n",
        "numeros.append(88)\n",
        "print(numeros)"
      ],
      "execution_count": null,
      "outputs": [
        {
          "output_type": "stream",
          "name": "stdout",
          "text": [
            "[10, 5, 2, 3, 1]\n",
            "[10, 5, 2, 3, 1]\n",
            "[10, 5, 20, 3, 1]\n",
            "[10, 5, 20, 3, 33]\n",
            "[10, 5, 20, 3, 33]\n",
            "[10, 5, 20, 3, 33, 88]\n"
          ]
        }
      ]
    },
    {
      "cell_type": "code",
      "metadata": {
        "colab": {
          "base_uri": "https://localhost:8080/"
        },
        "id": "aI0eqKo9ISmD",
        "outputId": "55dac4e1-7c07-4635-9356-b93284ddd648"
      },
      "source": [
        "# tipos diversos\n",
        "\n",
        "cosas = [12 , 2 , True , \"Jose\" , 1.57 , [\"pera\", \"kiwi\", \"uva\"]]\n",
        "print(cosas)\n",
        "print(cosas[1]) #Para sacar qué elemento esta en la posición 1\n",
        "print(cosas[4])\n",
        "print(cosas[5])\n",
        "print(cosas[5][1]) #Para imprimir kiwi de la lista que esta dentro de otra lista \n",
        "print(cosas[3][1:3:]) #Para imprimir las letras os de la palabra \"Jose\"\n",
        "cosas[3] = cosas[3].upper() #upper() para convertir en mayusculas\n",
        "print(cosas)\n"
      ],
      "execution_count": null,
      "outputs": [
        {
          "output_type": "stream",
          "name": "stdout",
          "text": [
            "[12, 2, True, 'Jose', 1.57, ['pera', 'kiwi', 'uva']]\n",
            "2\n",
            "1.57\n",
            "['pera', 'kiwi', 'uva']\n",
            "kiwi\n",
            "os\n",
            "[12, 2, True, 'JOSE', 1.57, ['pera', 'kiwi', 'uva']]\n"
          ]
        }
      ]
    },
    {
      "cell_type": "code",
      "metadata": {
        "colab": {
          "base_uri": "https://localhost:8080/"
        },
        "id": "ndWGe8KaLtdD",
        "outputId": "c52cc9f9-850a-43b4-9bed-5ea2e0e01331"
      },
      "source": [
        "numeros = [1,2,3,4,5,6,7,8,9,10,11]\n",
        "print(numeros)\n",
        "#slicing\n",
        "#Ejemplo 1. Imprimir del 4 al 8\n",
        "print(numeros[3:8])\n",
        "\n",
        "#Ejemplo 2. Obtener 9,10\n",
        "print(numeros[8:10])\n",
        "print(numeros[-3:-1:]) #Con indexado negativo\n",
        "\n",
        "#Ejemplo 3. Imprimir la lista en orden inverso\n",
        "print(numeros[::-1])\n",
        "\n"
      ],
      "execution_count": null,
      "outputs": [
        {
          "output_type": "stream",
          "name": "stdout",
          "text": [
            "[1, 2, 3, 4, 5, 6, 7, 8, 9, 10, 11]\n",
            "[4, 5, 6, 7, 8]\n",
            "[9, 10]\n",
            "[9, 10]\n",
            "[11, 10, 9, 8, 7, 6, 5, 4, 3, 2, 1]\n"
          ]
        }
      ]
    },
    {
      "cell_type": "code",
      "metadata": {
        "colab": {
          "base_uri": "https://localhost:8080/"
        },
        "id": "ISr6ClMHPgXW",
        "outputId": "20042c1b-4a63-44dc-e858-1c94badeaf78"
      },
      "source": [
        "# Crear una lista con un generador \n",
        "numeros = [x for x in range(101)]\n",
        "print(numeros)\n",
        "\n",
        "numeros = [x*3 for x in range(101)] #Para que se multiplique por 3 \n",
        "print(numeros)"
      ],
      "execution_count": null,
      "outputs": [
        {
          "output_type": "stream",
          "name": "stdout",
          "text": [
            "[0, 1, 2, 3, 4, 5, 6, 7, 8, 9, 10, 11, 12, 13, 14, 15, 16, 17, 18, 19, 20, 21, 22, 23, 24, 25, 26, 27, 28, 29, 30, 31, 32, 33, 34, 35, 36, 37, 38, 39, 40, 41, 42, 43, 44, 45, 46, 47, 48, 49, 50, 51, 52, 53, 54, 55, 56, 57, 58, 59, 60, 61, 62, 63, 64, 65, 66, 67, 68, 69, 70, 71, 72, 73, 74, 75, 76, 77, 78, 79, 80, 81, 82, 83, 84, 85, 86, 87, 88, 89, 90, 91, 92, 93, 94, 95, 96, 97, 98, 99, 100]\n",
            "[0, 3, 6, 9, 12, 15, 18, 21, 24, 27, 30, 33, 36, 39, 42, 45, 48, 51, 54, 57, 60, 63, 66, 69, 72, 75, 78, 81, 84, 87, 90, 93, 96, 99, 102, 105, 108, 111, 114, 117, 120, 123, 126, 129, 132, 135, 138, 141, 144, 147, 150, 153, 156, 159, 162, 165, 168, 171, 174, 177, 180, 183, 186, 189, 192, 195, 198, 201, 204, 207, 210, 213, 216, 219, 222, 225, 228, 231, 234, 237, 240, 243, 246, 249, 252, 255, 258, 261, 264, 267, 270, 273, 276, 279, 282, 285, 288, 291, 294, 297, 300]\n"
          ]
        }
      ]
    },
    {
      "cell_type": "markdown",
      "metadata": {
        "id": "uKNRx4gqQPry"
      },
      "source": [
        "# función range()\n",
        "\n",
        "Tiene los mismos componentes que slicing \n",
        "\n",
        "ini , stop , incremento \n",
        "\n",
        "range(1,101,1)"
      ]
    },
    {
      "cell_type": "code",
      "metadata": {
        "colab": {
          "base_uri": "https://localhost:8080/"
        },
        "id": "S2g-P-txQmDu",
        "outputId": "f59dd973-325f-4aa0-b609-128278c3da5f"
      },
      "source": [
        "numeros = [x for x in range(50, 101)] #Para que empiece desde el 50\n",
        "print(numeros)"
      ],
      "execution_count": null,
      "outputs": [
        {
          "output_type": "stream",
          "name": "stdout",
          "text": [
            "[50, 51, 52, 53, 54, 55, 56, 57, 58, 59, 60, 61, 62, 63, 64, 65, 66, 67, 68, 69, 70, 71, 72, 73, 74, 75, 76, 77, 78, 79, 80, 81, 82, 83, 84, 85, 86, 87, 88, 89, 90, 91, 92, 93, 94, 95, 96, 97, 98, 99, 100]\n"
          ]
        }
      ]
    },
    {
      "cell_type": "markdown",
      "metadata": {
        "id": "w4VwZh-EQ_1Z"
      },
      "source": [
        "# Métodos disponibles de las listas "
      ]
    },
    {
      "cell_type": "code",
      "metadata": {
        "colab": {
          "base_uri": "https://localhost:8080/"
        },
        "id": "6mY5_gmsREsP",
        "outputId": "911e15d3-696b-4137-823a-b807b87c5f8c"
      },
      "source": [
        "dir(list)"
      ],
      "execution_count": null,
      "outputs": [
        {
          "output_type": "execute_result",
          "data": {
            "text/plain": [
              "['__add__',\n",
              " '__class__',\n",
              " '__contains__',\n",
              " '__delattr__',\n",
              " '__delitem__',\n",
              " '__dir__',\n",
              " '__doc__',\n",
              " '__eq__',\n",
              " '__format__',\n",
              " '__ge__',\n",
              " '__getattribute__',\n",
              " '__getitem__',\n",
              " '__gt__',\n",
              " '__hash__',\n",
              " '__iadd__',\n",
              " '__imul__',\n",
              " '__init__',\n",
              " '__init_subclass__',\n",
              " '__iter__',\n",
              " '__le__',\n",
              " '__len__',\n",
              " '__lt__',\n",
              " '__mul__',\n",
              " '__ne__',\n",
              " '__new__',\n",
              " '__reduce__',\n",
              " '__reduce_ex__',\n",
              " '__repr__',\n",
              " '__reversed__',\n",
              " '__rmul__',\n",
              " '__setattr__',\n",
              " '__setitem__',\n",
              " '__sizeof__',\n",
              " '__str__',\n",
              " '__subclasshook__',\n",
              " 'append',\n",
              " 'clear',\n",
              " 'copy',\n",
              " 'count',\n",
              " 'extend',\n",
              " 'index',\n",
              " 'insert',\n",
              " 'pop',\n",
              " 'remove',\n",
              " 'reverse',\n",
              " 'sort']"
            ]
          },
          "metadata": {},
          "execution_count": 29
        }
      ]
    },
    {
      "cell_type": "code",
      "metadata": {
        "colab": {
          "base_uri": "https://localhost:8080/"
        },
        "id": "w3Pye_uCSSt1",
        "outputId": "efb1b6c3-4d05-40d4-9bed-e02af2e98146"
      },
      "source": [
        "numeros = [4,1,15,8,22,34,50]\n",
        "print(numeros)\n",
        "numeros.append(99)\n",
        "print(numeros)\n",
        "\n",
        "#Para limpiar la lista\n",
        "#numeros.clear()\n",
        "print(numeros)\n",
        "#otra alternativa es poner \n",
        "#numeros = []\n",
        "print(numeros)\n",
        "\n",
        "#Copy\n",
        "\n",
        "frutas = [\"uvas\" , \"kiwi\" , \"manzana\"]\n",
        "copia = frutas\n",
        "print(frutas)\n",
        "print(copia)\n",
        "frutas.append(\"naranja\")\n",
        "print(frutas)\n",
        "print(copia)\n",
        "\n",
        "colores = [\"rojo\" , \"azul\" , \"blanco\"]\n",
        "copia2 = colores.copy() #esta función en memoria va a reservar una copia fisica \n",
        "print(colores)\n",
        "print(copia2)\n",
        "colores.append(\"verde\")\n",
        "print(colores)\n",
        "print(copia2)\n",
        "\n",
        "#count \n",
        "\n",
        "print(\"Numero de veces que aparece el 15=\" , numeros.count(15))\n",
        "\n",
        "#extend\n",
        "\n",
        "nombres = [\"jose\" , \"pedro\" , \"karina\"]\n",
        "otrosNombres = [\"josue\" , \"diana\" , \"daira\"]\n",
        "\n",
        "print(nombres)\n",
        "print(otrosNombres)\n",
        "nombres = nombres + otrosNombres\n",
        "print(nombres)\n",
        "print(otrosNombres)\n",
        "\n",
        "#lo mismo con el metodo extend\n",
        "otrosNombres.extend([\"jesus\" , \"maria\" , \"jose\"])\n",
        "print(otrosNombres)\n",
        "\n",
        "#index\n",
        "print(\"jesus esta en la posicion:\" , otrosNombres.index(\"jesus\"))\n",
        "\n",
        "#insert\n",
        "otrosNombres.insert(4,  \"Espiritu santo\") #insertar un elemento\n",
        "print(otrosNombres)\n",
        "\n",
        "#pop\n",
        "resultado = otrosNombres.pop() #saca el ultimo elemnto y lo regresa\n",
        "print(otrosNombres)\n",
        "print(resultado)"
      ],
      "execution_count": null,
      "outputs": [
        {
          "output_type": "stream",
          "name": "stdout",
          "text": [
            "[4, 1, 15, 8, 22, 34, 50]\n",
            "[4, 1, 15, 8, 22, 34, 50, 99]\n",
            "[4, 1, 15, 8, 22, 34, 50, 99]\n",
            "[4, 1, 15, 8, 22, 34, 50, 99]\n",
            "['uvas', 'kiwi', 'manzana']\n",
            "['uvas', 'kiwi', 'manzana']\n",
            "['uvas', 'kiwi', 'manzana', 'naranja']\n",
            "['uvas', 'kiwi', 'manzana', 'naranja']\n",
            "['rojo', 'azul', 'blanco']\n",
            "['rojo', 'azul', 'blanco']\n",
            "['rojo', 'azul', 'blanco', 'verde']\n",
            "['rojo', 'azul', 'blanco']\n",
            "Numero de veces que aparece el 15= 1\n",
            "['jose', 'pedro', 'karina']\n",
            "['josue', 'diana', 'daira']\n",
            "['jose', 'pedro', 'karina', 'josue', 'diana', 'daira']\n",
            "['josue', 'diana', 'daira']\n",
            "['josue', 'diana', 'daira', 'jesus', 'maria', 'jose']\n",
            "jesus esta en la posicion: 3\n",
            "['josue', 'diana', 'daira', 'jesus', 'Espiritu santo', 'maria', 'jose']\n",
            "['josue', 'diana', 'daira', 'jesus', 'Espiritu santo', 'maria']\n",
            "jose\n"
          ]
        }
      ]
    },
    {
      "cell_type": "markdown",
      "metadata": {
        "id": "ZXOkcF0wvsff"
      },
      "source": [
        "# Tuplas\n",
        "\n",
        "### Caracteristicas de las duplas \n",
        "\n",
        "- Son datos agrupados\n",
        "- Se declara usando#\n",
        "  - ()\n",
        "  - tuple()\n",
        "- Es una estructura secuencial, esta indexada a partir de 0.\n",
        "- Pueden tener 0 a n elementos\n",
        "- NO SON MUTABLES (no se puede: eliminar y/o cambiar.\n",
        "- Son buenas para almacenar información de consulta.\n",
        "- Pueden alamacenar información de diferentes tipos de datos.\n",
        "- Pueden estar anidadas.\n",
        "- Tienen métodos útiles."
      ]
    },
    {
      "cell_type": "code",
      "metadata": {
        "colab": {
          "base_uri": "https://localhost:8080/"
        },
        "id": "tb64EXPkwydy",
        "outputId": "5a5714ac-f644-474d-dd8a-58969fae1dd5"
      },
      "source": [
        "info = (\"juan23\" , \"dios11234\" , \"123.232.1.12\")\n",
        "print(info)\n",
        "print(info[1]) #imprimir password que esta en posición 1.\n",
        "#info[1] = \"patito23\" quiere decir que no son mutables \n",
        "\n",
        "numeros = (0,1,2,3,4,5,6,7,8,9,10,11,12,13,14,15)\n",
        "print(numeros)\n",
        "print(numeros[5:11]) #para imprimir del 5 al 10\n",
        "\n",
        "cosas = (info , numeros) \n",
        "print(cosas) \n",
        "print(cosas[1][5:11:1]) #para imprimir del 5 al 10 desde las tuplas unidas.\n",
        "#el primer 1 es porque la dupla en donde estan los numeros esta en la posición 1\n",
        "print(cosas[0][2][4:7]) #para imprimir el 232\n",
        "#el 0 es porque la tupla esta en la pocision 0 y el 2 porque en donde esta el 232\n",
        "#esta en la pocion 2 (el 0 es juan23 y 1 es dios1...)\n",
        "print(cosas[0][2][-8:-5]) #con indexado negativo "
      ],
      "execution_count": null,
      "outputs": [
        {
          "output_type": "stream",
          "name": "stdout",
          "text": [
            "('juan23', 'dios11234', '123.232.1.12')\n",
            "dios11234\n",
            "(0, 1, 2, 3, 4, 5, 6, 7, 8, 9, 10, 11, 12, 13, 14, 15)\n",
            "(5, 6, 7, 8, 9, 10)\n",
            "(('juan23', 'dios11234', '123.232.1.12'), (0, 1, 2, 3, 4, 5, 6, 7, 8, 9, 10, 11, 12, 13, 14, 15))\n",
            "(5, 6, 7, 8, 9, 10)\n",
            "232\n",
            "232\n"
          ]
        }
      ]
    },
    {
      "cell_type": "markdown",
      "metadata": {
        "id": "zaD7Hw_k0bbO"
      },
      "source": [
        "# Métodos de las duplas \n",
        "Son los mismos de las listas pero los que no involucren mutabilidad."
      ]
    },
    {
      "cell_type": "code",
      "metadata": {
        "colab": {
          "base_uri": "https://localhost:8080/"
        },
        "id": "NgxyPNTD0m2b",
        "outputId": "1a3a598e-e175-4f73-9154-37615ffa5e6e"
      },
      "source": [
        "dir(tuple)"
      ],
      "execution_count": null,
      "outputs": [
        {
          "output_type": "execute_result",
          "data": {
            "text/plain": [
              "['__add__',\n",
              " '__class__',\n",
              " '__contains__',\n",
              " '__delattr__',\n",
              " '__dir__',\n",
              " '__doc__',\n",
              " '__eq__',\n",
              " '__format__',\n",
              " '__ge__',\n",
              " '__getattribute__',\n",
              " '__getitem__',\n",
              " '__getnewargs__',\n",
              " '__gt__',\n",
              " '__hash__',\n",
              " '__init__',\n",
              " '__init_subclass__',\n",
              " '__iter__',\n",
              " '__le__',\n",
              " '__len__',\n",
              " '__lt__',\n",
              " '__mul__',\n",
              " '__ne__',\n",
              " '__new__',\n",
              " '__reduce__',\n",
              " '__reduce_ex__',\n",
              " '__repr__',\n",
              " '__rmul__',\n",
              " '__setattr__',\n",
              " '__sizeof__',\n",
              " '__str__',\n",
              " '__subclasshook__',\n",
              " 'count',\n",
              " 'index']"
            ]
          },
          "metadata": {},
          "execution_count": 16
        }
      ]
    },
    {
      "cell_type": "markdown",
      "metadata": {
        "id": "bhTJWgVK2jfT"
      },
      "source": [
        "# Diccionario\n",
        "### caracteristicas de los diccionarios \n",
        "\n",
        "- Agrupan datos, pero de forma no lineal. \n",
        "- Se declaran con: \n",
        "    - {}\n",
        "    - dic ()\n",
        "- Formado por pares del tipo llave: valor, donde: \n",
        "    - Llave es de tipo string (siempre)\n",
        "    - Valor puede ser de cualquier tipo de datos, incluyendo los diccionarios.\n",
        " - Se seleccionan con la llave de la forma :   \n",
        "      [\"id_llave\"]\n",
        "- Son mutables \n",
        "- Son anidables\n",
        "- Son equivalentes al tipo de dato JSON del lenguaje JavaScript (JS) "
      ]
    },
    {
      "cell_type": "code",
      "metadata": {
        "colab": {
          "base_uri": "https://localhost:8080/"
        },
        "id": "qCfPOnww4Y9w",
        "outputId": "57b827a6-8c6f-406c-fa60-cba6748edf39"
      },
      "source": [
        "alumno = { \"nombre\" : \"Jose\"}\n",
        "print(alumno) \n",
        "print(alumno[\"nombre\"]) #para imprimir solo el nombre de Jose\n",
        "alumno = {\"nombre\" : \"Jose\" , \"nc\" : \"2129229292\" , \"edad\" : 18}\n",
        "print(alumno[\"edad\"]) #imprimir la edad 18 \n",
        "print(alumno[\"nombre\"].upper()) #para imprimir el string con mayusculas\n",
        "\n",
        "#Imprimir el mismo resultado pero con la forma dict.\n",
        "alumno2 = dict() #( )\n",
        "alumno2[\"nombre\"] = \"Jose\"\n",
        "print(alumno2)\n",
        "alumno2[\"nc\"] = \"2129229292\"\n",
        "alumno2[\"edad\"] = 18\n",
        "print(alumno2)\n",
        "\n",
        "alumno2[\"edad\"] = alumno2[\"edad\"] + 1 #suponiendo que cumplió un año mas\n",
        "print(alumno2)\n",
        "\n"
      ],
      "execution_count": null,
      "outputs": [
        {
          "output_type": "stream",
          "name": "stdout",
          "text": [
            "{'nombre': 'Jose'}\n",
            "Jose\n",
            "18\n",
            "JOSE\n",
            "{'nombre': 'Jose'}\n",
            "{'nombre': 'Jose', 'nc': '2129229292', 'edad': 18}\n",
            "{'nombre': 'Jose', 'nc': '2129229292', 'edad': 19}\n"
          ]
        }
      ]
    },
    {
      "cell_type": "code",
      "metadata": {
        "colab": {
          "base_uri": "https://localhost:8080/"
        },
        "id": "0sqYLv3c8Dnx",
        "outputId": "f0962a6b-8b0f-4b9c-e16b-0a3026b08d1d"
      },
      "source": [
        "#En los diccionarios es posible poner salto de linea por si no nos cabe en el \n",
        "#campo de visión \n",
        "cliente = { \"ID\" : \"CT2121\" , \n",
        "           \"nombre\" : \"Jose Pedroza Rosales\" , \n",
        "           \"telefonos\" : \"casa=554456565 cel=0445678965\" }\n",
        "print(cliente)           \n",
        "cliente = { \"ID\" : \"CT2121\" , \n",
        "           \"nombre\" : {\n",
        "           \"nombres\" : [\"Jose\" , \"Eduardo\"] ,\n",
        "           \"paterno\" : \"Pedroza\", \n",
        "           \"materno\" : \"Rosales\"\n",
        "           }, \n",
        "           \"telefonos\" : { \n",
        "                        \"casa\" : \"554456565\",\n",
        "                        \"trabajo\" : \"55329076898\", \n",
        "                        \"celular\" : \"0445678965\"\n",
        "           } ,\n",
        "           \"productos\" : { \n",
        "                        \"ahorro\":{ \"numero_cuenta\":\"7788\" , \"ahorro\": 2500.5},\n",
        "                        \"tarjetas\":[ \n",
        "                                     {\"tipo\" :\"debito\" , \"saldo\":10000.5},\n",
        "                                     {\"tipo\" :\"credito preferente\" , \"limite\":250000.5},\n",
        "                                     {\"tipo\" :\"lite\" , \"limite\": 15000.5}\n",
        "           ] \n",
        "            },\n",
        "            \"direccion\":{ \n",
        "                \"calle\" :\"Av. central\",\n",
        "                \"numero\" : 1245,\n",
        "                \"colonia\" :\"Impulsora\",\n",
        "                \"delegación\" :\"neza\",\n",
        "                \"estado\" : { \n",
        "                    \"clave\":15,\n",
        "                    \"nombre_corto\":\"Edomex\",\n",
        "                    \"nombre\": \"Estado de Mexico\" \n",
        "                     }          \n",
        "           }\n",
        "            }\n",
        "print(cliente[\"telefonos\"][\"casa\"] ) #impimir el telefono de casa \n",
        "print(cliente)\n",
        "print(cliente[\"productos\"][\"ahorro\"][\"ahorro\"]) #para imprimir los ahorros\n",
        "print(cliente[\"productos\"][\"tarjetas\"][2][\"limite\"]) #limite de la tarjeta lite\n",
        "print(cliente[\"direccion\"][\"estado\"][\"nombre\"].upper() ) #Estado en mayusculas\n",
        "cliente[\"productos\"][\"ahorro\"][\"ahorro\"] -= 1500.0\n",
        "print(cliente[\"productos\"])\n",
        "\n",
        "\n"
      ],
      "execution_count": null,
      "outputs": [
        {
          "output_type": "stream",
          "name": "stdout",
          "text": [
            "{'ID': 'CT2121', 'nombre': 'Jose Pedroza Rosales', 'telefonos': 'casa=554456565 cel=0445678965'}\n",
            "554456565\n",
            "{'ID': 'CT2121', 'nombre': {'nombres': ['Jose', 'Eduardo'], 'paterno': 'Pedroza', 'materno': 'Rosales'}, 'telefonos': {'casa': '554456565', 'trabajo': '55329076898', 'celular': '0445678965'}, 'productos': {'ahorro': {'numero_cuenta': '7788', 'ahorro': 2500.5}, 'tarjetas': [{'tipo': 'debito', 'saldo': 10000.5}, {'tipo': 'credito preferente', 'limite': 250000.5}, {'tipo': 'lite', 'limite': 15000.5}]}, 'direccion': {'calle': 'Av. central', 'numero': 1245, 'colonia': 'Impulsora', 'delegación': 'neza', 'estado': {'clave': 15, 'nombre_corto': 'Edomex', 'nombre': 'Estado de Mexico'}}}\n",
            "2500.5\n",
            "15000.5\n",
            "ESTADO DE MEXICO\n",
            "{'ahorro': {'numero_cuenta': '7788', 'ahorro': 1000.5}, 'tarjetas': [{'tipo': 'debito', 'saldo': 10000.5}, {'tipo': 'credito preferente', 'limite': 250000.5}, {'tipo': 'lite', 'limite': 15000.5}]}\n"
          ]
        }
      ]
    },
    {
      "cell_type": "markdown",
      "metadata": {
        "id": "rMwstQSNMxy9"
      },
      "source": [
        "#Estructra de control de programación \n",
        "\n",
        "Se puede crear cualquier tipo de algoritmo empleando solamente 3 estructuras de control:      \n",
        "\n",
        "1. Secuencia:      \n",
        "      -La representación de la memoria de programa (Arquitectura Von Newman)\n",
        " 2. Selección: \n",
        "    - Es la estructura de control que decide si un bloque de programa se ejecuta o no. Tambien permite seleccionar o ejecutar un bloque entre en un conjunto de opciones.     \n",
        " 3. Repetición:  \n",
        "    - Este tipo de estructura nos permite automatizar la ejecución repetitiva de código mienttras ciertas condiciones se cumplam, tenemos 3 variantes de esta estructura en todos los lenguajes de programación. \n",
        "    - Desde.....hasta (estructura for)\n",
        "    - haz mientras (estructura while)  \n",
        "    - haz y luego validez mientras (estructura Do-while)      "
      ]
    },
    {
      "cell_type": "markdown",
      "metadata": {
        "id": "KL4tgKIOR2rs"
      },
      "source": [
        "#Selección simple\n",
        "- Documentar o poner nota.\n",
        "\n",
        "La estructura if\n",
        "\n",
        "if<CONDICION> :    \n",
        "      <Cuerpo del IF>\n",
        "\n",
        "      **NOTA** PAara establecer el cuerpo de una estructura de control, se usan \n",
        "      los tabuladores a la izquierda.\n",
        "\n",
        "      En otros lenguajes como Java, c y c++... se usan las llaves { }\n",
        "      ``` \n",
        "      int edad =0;\n",
        "      printf(\"Dam tu edad\");\n",
        "      scanf(\"%i\", &edad );\n",
        "      if(edad >= 18) {\n",
        "         printf(\"ERES MAYOR DE EDAD\");\n",
        "      ```"
      ]
    },
    {
      "cell_type": "code",
      "metadata": {
        "colab": {
          "base_uri": "https://localhost:8080/"
        },
        "id": "t0vyo0IsR-Hq",
        "outputId": "7d1a4693-fa36-4bcf-d717-40dfec27c3c0"
      },
      "source": [
        "edad = int( input(\"Dame tu edad:\"))\n",
        "print(f\"Tecleaste {edad} años\") \n",
        "if edad >= 18 :\n",
        "    print(\"ERES MAYOR DE EDAD\") \n",
        "    print(\"Algo\") #PERTENECE AL IF\n",
        "print(\"Otra cosa\") #YA NO PERTENECE AL IF SINO, AL PROGRAMA PRINCIPAL\n",
        "print(\"Fin de programa\")"
      ],
      "execution_count": null,
      "outputs": [
        {
          "output_type": "stream",
          "name": "stdout",
          "text": [
            "Dame tu edad:16\n",
            "Tecleaste 16 años\n",
            "Otra cosa\n",
            "Fin de programa\n"
          ]
        }
      ]
    },
    {
      "cell_type": "code",
      "metadata": {
        "colab": {
          "base_uri": "https://localhost:8080/"
        },
        "id": "lp6EPU6FWUs-",
        "outputId": "edadbaa7-a883-4e33-e607-8f2112d9a6c7"
      },
      "source": [
        "#Ejercicio del libro pag. 55\n",
        "CAL = float(input(\"Dame tu calificación:\"))\n",
        "if CAL > 8 :\n",
        "  print (\"aprobado\")\n",
        "  print(\"Fin de programa\")"
      ],
      "execution_count": null,
      "outputs": [
        {
          "output_type": "stream",
          "name": "stdout",
          "text": [
            "Dame tu calificación:8.78\n",
            "aprobado\n",
            "Fin de programa\n"
          ]
        }
      ]
    },
    {
      "cell_type": "code",
      "metadata": {
        "colab": {
          "base_uri": "https://localhost:8080/"
        },
        "id": "LqGvtoOiXWgJ",
        "outputId": "83e38083-91c0-4f9d-bdc1-bf0a461ee353"
      },
      "source": [
        "#Ejercicio del libro pag. 56\n",
        "\n",
        "SUE = float(input(\"Escribe el sueldo: \"))\n",
        "AUM = 0 \n",
        "MSUE = 0\n",
        "\n",
        "if SUE < 1000 :\n",
        "    AUM = SUE* 0.15\n",
        "    MSUE = SUE + AUM\n",
        "    print(MSUE)"
      ],
      "execution_count": null,
      "outputs": [
        {
          "output_type": "stream",
          "name": "stdout",
          "text": [
            "Escribe el sueldo: 875.50\n",
            "1006.825\n"
          ]
        }
      ]
    },
    {
      "cell_type": "markdown",
      "metadata": {
        "id": "55j-WB5AGjet"
      },
      "source": [
        "#Estructura de selección de bifurcación (if-else)\n",
        "\n",
        "Esta estructura selecciona una de dos opciones de ejecución, se ejecuta un bloque si la condición se cumple o se ejecuta otro bloque si la condición no se cumple (else).\n",
        "\n",
        " \n",
        "if <condicion> \n",
        "    <bloque de ejecución>\n",
        "else:    \n",
        "    <bloque de ejecución alterno>     "
      ]
    },
    {
      "cell_type": "code",
      "metadata": {
        "colab": {
          "base_uri": "https://localhost:8080/"
        },
        "id": "b9H1gGAkHn27",
        "outputId": "a7101087-16ab-4665-c1e8-c732816a9ce9"
      },
      "source": [
        "edad= int(input(\"Dame tu edad:\"))\n",
        "print(f\"Tecleaste {edad} años\")\n",
        "if edad >= 18 : \n",
        "    print(\"Eres mayor de edad, ten tu cheve\")\n",
        "else:\n",
        "     print(\"Eres mayor de edad, ten tu Boing\")   \n",
        "print(\"fin del programa\")\n",
        "\n",
        "\n",
        "\n"
      ],
      "execution_count": null,
      "outputs": [
        {
          "output_type": "stream",
          "name": "stdout",
          "text": [
            "Dame tu edad:17\n",
            "Tecleaste 17 años\n",
            "Eres mayor de edad, ten tu Boing\n",
            "fin del programa\n"
          ]
        }
      ]
    },
    {
      "cell_type": "code",
      "metadata": {
        "colab": {
          "base_uri": "https://localhost:8080/"
        },
        "id": "Mn3DjRVzJL51",
        "outputId": "af31fb80-1c53-4471-f9ab-65a5d86efee5"
      },
      "source": [
        "# 36 pesos una cheve, hacer que si eres mayor de edad y tienes igual o mas de \n",
        "# 36 pesos te dan una cheve, si no te dan un boing.\n",
        "\n",
        "edad=int(input(\"Dame tu edad: \"))\n",
        "dinero=float(input(\"Dame tu cantidad de dinero: \"))\n",
        "print(f\"Tecleaste {edad} años\")\n",
        "print(f\"Tecleaste {dinero} pesos\")\n",
        "if edad>=18 and dinero>=36:\n",
        "    print(\"Eres mayor de edad, ten tu cheve\")\n",
        "else:\n",
        "    print(\"Eres menor de edad, ten tu boing\")\n",
        "print(\"FIN DEL PROGRAMA\")"
      ],
      "execution_count": null,
      "outputs": [
        {
          "output_type": "stream",
          "name": "stdout",
          "text": [
            "Dame tu edad: 18\n",
            "Dame tu cantidad de dinero: 60\n",
            "Tecleaste 18 años\n",
            "Tecleaste 60.0 pesos\n",
            "Eres mayor de edad, ten tu cheve\n",
            "FIN DEL PROGRAMA\n"
          ]
        }
      ]
    },
    {
      "cell_type": "code",
      "metadata": {
        "colab": {
          "base_uri": "https://localhost:8080/"
        },
        "id": "8L2JRs8_KRl8",
        "outputId": "dfd23051-02c5-4c03-f1fc-a6c46d9b1538"
      },
      "source": [
        "#otra solución\n",
        "\n",
        "edad = int (input(\"Dame tu edad:\"))\n",
        "dinero = float (input(\"¿Cuánto dinero tienes?\"))\n",
        "if edad >= 18:\n",
        "    if dinero >=35:\n",
        "        print(\"Eres mayor de edad y tienes dinero, ten tu cheve\")\n",
        "    else:\n",
        "      print(\"No tienes suficiente dinero\")\n",
        "else:\n",
        "    print(\"Eres menor de edad, ten tu Boing\")\n",
        "print(\"Fin del programa\")"
      ],
      "execution_count": null,
      "outputs": [
        {
          "output_type": "stream",
          "name": "stdout",
          "text": [
            "Dame tu edad:19\n",
            "¿Cuánto dinero tienes?34.8\n",
            "No tienes suficiente dinero\n",
            "Fin del programa\n"
          ]
        }
      ]
    },
    {
      "cell_type": "code",
      "metadata": {
        "colab": {
          "base_uri": "https://localhost:8080/"
        },
        "id": "RjTv855bNUs9",
        "outputId": "d51636ef-fc9a-4788-c25a-fa8f67c72a31"
      },
      "source": [
        "#Otra solución \n",
        "\n",
        "edad = int(input(\"Dame tu edad: \"))\n",
        "dinero = float(input(\"Cuanto dinero tienes: \"))\n",
        "print(f\"Tecleaste {edad} años\")\n",
        "print(f\"Tecleaste {dinero} dinero\")\n",
        "if edad >= 18 :\n",
        "    if dinero >=36 :\n",
        "        print(\"Ten tu cheve\")\n",
        "    else:\n",
        "        print(\"tienes la edad pero no tienes dinero suficiente\")\n",
        "elif dinero >= 36 :\n",
        "    print(\"Tienes dinero suficiente pero no tienes la edad\")\n",
        "else:\n",
        "    print(\"No tienes la edad ni el dinero, ve a jugar roblox a tu casa\")"
      ],
      "execution_count": null,
      "outputs": [
        {
          "output_type": "stream",
          "name": "stdout",
          "text": [
            "Dame tu edad: 11\n",
            "Cuanto dinero tienes: 0.5\n",
            "Tecleaste 11 años\n",
            "Tecleaste 0.5 dinero\n",
            "No tienes la edad ni el dinero, ve a jugar roblox a tu casa\n"
          ]
        }
      ]
    },
    {
      "cell_type": "code",
      "metadata": {
        "colab": {
          "base_uri": "https://localhost:8080/"
        },
        "id": "LnY6k2OJO4hB",
        "outputId": "4e7f2c1f-89e4-4852-9b0d-46700e3bc2c7"
      },
      "source": [
        "# ejemplo 2.3 pagina 59\n",
        "\n",
        "CAL= float(input(\"Escribe tu calificiación: \"))\n",
        "if CAL >= 8 :\n",
        "    print(\"Aprobado\")\n",
        "else: \n",
        "    print(\"Reprobado\")"
      ],
      "execution_count": null,
      "outputs": [
        {
          "output_type": "stream",
          "name": "stdout",
          "text": [
            "Escribe tu calificiación: 6\n",
            "Reprobado\n"
          ]
        }
      ]
    },
    {
      "cell_type": "code",
      "metadata": {
        "colab": {
          "base_uri": "https://localhost:8080/"
        },
        "id": "3GqJwHivPNQq",
        "outputId": "c8acd08b-7b98-4d2d-bdd1-a8f30618dddf"
      },
      "source": [
        "#Ejemplo 2.4 pag. 60\n",
        "\n",
        "SUE= float(input(\"Escribe tu sueldo\"))\n",
        "AUM = 0 \n",
        "NSUE = 0\n",
        "\n",
        "if SUE < 1000 :\n",
        "    AUM = SUE* 0.15\n",
        "    NSUE = SUE + AUM #NSU es nuevo sueldo \n",
        "    print(NSUE)\n",
        "else:\n",
        "    AUM= SUE*0.12\n",
        "    NSUE = SUE + AUM\n",
        "print(NSUE)"
      ],
      "execution_count": null,
      "outputs": [
        {
          "output_type": "stream",
          "name": "stdout",
          "text": [
            "Escribe tu sueldo2000\n",
            "2240.0\n"
          ]
        }
      ]
    },
    {
      "cell_type": "code",
      "metadata": {
        "colab": {
          "base_uri": "https://localhost:8080/"
        },
        "id": "DbzW2vCbRcoT",
        "outputId": "d19fcf03-d668-4d3d-90d5-803e35bd5326"
      },
      "source": [
        "#Otra solución \n",
        "\n",
        "SUE=float(input(\"Dame tu sueldo: \"))\n",
        "if SUE<1000:\n",
        "    NSUE=SUE*1.15\n",
        "else:\n",
        "    NSUE=SUE*1.12\n",
        "print(f\"Tu nuevo sueldo es: {NSUE}\")"
      ],
      "execution_count": null,
      "outputs": [
        {
          "output_type": "stream",
          "name": "stdout",
          "text": [
            "Dame tu sueldo: 2000\n",
            "Tu nuevo sueldo es: 2240.0\n"
          ]
        }
      ]
    },
    {
      "cell_type": "markdown",
      "metadata": {
        "id": "RKQ8a4v6SD01"
      },
      "source": [
        "# ejercicio if-else \n",
        "\n",
        "hacer un programa que solicite el dia de la semana en un valor numerico entero del 1 al 7 (avisarle al usuario si proporciono un valor fuera del rango). \n",
        "\n",
        "###postriormente imprimira el dia de la semana correspondiente al numero capturado. \n",
        "\n",
        "1. lunes\n",
        "2. martes\n",
        "....\n",
        "7. domingo "
      ]
    },
    {
      "cell_type": "code",
      "metadata": {
        "colab": {
          "base_uri": "https://localhost:8080/"
        },
        "id": "iD_wnnXLSpd7",
        "outputId": "0466c2f0-1199-4743-c235-0f9a631e9bbe"
      },
      "source": [
        "DIA= int(input(\"Escribe el dia de la semana:\"))\n",
        "if DIA is 1:\n",
        "    print(\"LUNES\")\n",
        "elif DIA is 2:\n",
        "    print(\"MARTES\")\n",
        "elif DIA is 3:\n",
        "    print(\"MIERCOLES\")\n",
        "elif DIA is 4:\n",
        "    print(\"JUEVES\")\n",
        "elif DIA is 5:\n",
        "    print(\"VIERNES\")\n",
        "elif DIA is 6:\n",
        "    print(\"SÁBADO\")\n",
        "elif DIA is 7:\n",
        "    print(\"DOMINGO\")\n",
        "else:\n",
        "    print(\"No existe un día de la semana con ese numero, ingresa nuevamente\")"
      ],
      "execution_count": null,
      "outputs": [
        {
          "output_type": "stream",
          "name": "stdout",
          "text": [
            "Escribe el dia de la semana:1\n",
            "LUNES\n"
          ]
        }
      ]
    },
    {
      "cell_type": "code",
      "metadata": {
        "colab": {
          "base_uri": "https://localhost:8080/"
        },
        "id": "dFDEtFmgXsxj",
        "outputId": "6bc02e61-8b3e-4fed-ddbd-e99f52a08f5c"
      },
      "source": [
        "dia = int( input(\"Ingresa un numero entre 1 y 7:\"))\n",
        "print(f\"Capturaste el numero { dia }\")\n",
        " \n",
        "if dia >=1 and dia <= 7:\n",
        "    if dia == 1:\n",
        "        print(\"Lunes\")\n",
        "    else:\n",
        "        if dia == 2:\n",
        "            print(\"Martes\")\n",
        "        else:\n",
        "            if dia == 3:\n",
        "                print(\"Miércoles\")\n",
        "            else:\n",
        "                if dia == 4:\n",
        "                    print(\"Jueves\")\n",
        "                else:\n",
        "                    if dia == 5:\n",
        "                        print(\"Viernes\")\n",
        "                    else:\n",
        "                        if dia == 6:\n",
        "                            print(\"Sábado\")\n",
        "                        else:\n",
        "                            print(\"Domingo\")\n",
        " \n",
        "else:\n",
        "    print(\"Ese numero no esta dentro del rango solicitado\")"
      ],
      "execution_count": null,
      "outputs": [
        {
          "output_type": "stream",
          "name": "stdout",
          "text": [
            "Ingresa un numero entre 1 y 7:5\n",
            "Capturaste el numero 5\n",
            "Viernes\n"
          ]
        }
      ]
    },
    {
      "cell_type": "code",
      "metadata": {
        "id": "u1xY545eZjcU"
      },
      "source": [
        "#Hacer un programa que pida dos numeros enteros y que imprima en pantalla lo siguiente: \n",
        "\n",
        "\"\"\"1.Cual de ellos es el numero mayor.\n",
        "2. cual de ellos es el numero menor\n",
        " o en su defecto imprimir que los valores \n",
        "son iguales\"\"\" \n",
        "\n",
        "\n",
        "\n",
        "\"\"\"Hacer un programa que solicite 3 numeros enteros diferentes entre si y que \n",
        "imprima cual de los tres es el mayor\"  \n",
        "\n",
        "\"\"Hacer un programa que solicite 3 numeros enteros diferentes entre si y que \n",
        "imprima cual de los tres es el menor\"\"\"\n",
        "\n",
        "\n",
        "\"\"\"Hacer un programa que solicite 4 numeros enteros diferentes entre si e \n",
        "imprima a la salida cual de ellos es el menor y cual de ellos es el mayor\"\"\""
      ],
      "execution_count": null,
      "outputs": []
    },
    {
      "cell_type": "markdown",
      "metadata": {
        "id": "PJRWdUqda8OI"
      },
      "source": [
        "#Selección múltiple (switch)\n",
        "En python no existe la estructura de selección switch, en su lugar se emplea la palabra reservada:    \n",
        "\n",
        "##elif <condicion>:    \n",
        "\n",
        "por ejemplo en el lenguaje C y Java seria de la forma:  \n",
        "\n",
        "´´´´ \n",
        "float SUE=0.0;\n",
        "int CATE=0;\n",
        "\n",
        "printf(\"Introduce la categoría:\");\n",
        "scanf(\"%i\",&CATE);\n",
        "printf(\"Introduce el sueldo:\");\n",
        "scanf(\"%f\",&SUE);\n",
        "\n",
        "switch(CATE){\n",
        "    case 1:       \n",
        "        SUE = SUE * 1.15;\n",
        "        break;\n",
        "    case 2:     \n",
        "        SUE = SUE * 1.10;\n",
        "        break;\n",
        "    case 3:     \n",
        "        SUE = SUE * 1.08;\n",
        "        break;\n",
        "    case 4:     \n",
        "        SUE = SUE * 1.07;\n",
        "        break;\n",
        "}        \n",
        "  print(\"Categoría=&i  \n",
        "\n",
        "\n",
        "\n",
        "\n"
      ]
    },
    {
      "cell_type": "code",
      "metadata": {
        "colab": {
          "base_uri": "https://localhost:8080/"
        },
        "id": "yP4u9pqpcbEh",
        "outputId": "0d297ce1-69a8-4c40-9bc1-51cf4a33e7dc"
      },
      "source": [
        "# ejemplo 2.7 \n",
        "\n",
        "NUM = int(input(\"dame un numero entre 1 y 3:\"))\n",
        "V = float(input(\"Dame un valor float:\"))\n",
        "VAL = 0\n",
        "if NUM == 1:\n",
        "    VAL = 100 * V\n",
        "elif NUM == 2:\n",
        "    VAL = 100 ** V\n",
        "elif NUM == 3 :\n",
        "    VAL =100/V\n",
        "else:\n",
        "    VAL = 0\n",
        " \n",
        "print(VAL)       "
      ],
      "execution_count": null,
      "outputs": [
        {
          "output_type": "stream",
          "name": "stdout",
          "text": [
            "dame un numero entre 1 y 3:2\n",
            "Dame un valor float:2.5\n",
            "100000.0\n"
          ]
        }
      ]
    },
    {
      "cell_type": "code",
      "metadata": {
        "colab": {
          "base_uri": "https://localhost:8080/"
        },
        "id": "FGIA_jOl18E_",
        "outputId": "914622e4-23a6-4c2d-8fb3-ca681156034a"
      },
      "source": [
        "#Ejemplo 2.8\n",
        "\n",
        "CATE= int(input(\"Produce la categoría:\"))\n",
        "SUE = float(input(\"Introduce el sueldo:\"))\n",
        "\n",
        "if CATE == 1:\n",
        "    SUE= SUE * 1.15;\n",
        "elif CATE == 2:\n",
        "    SUE = SUE * 1.10;\n",
        "elif CATE == 3:\n",
        "    SUE = SUE * 1.08; \n",
        "elif CATE == 4:\n",
        "    SUE = SUE * 1.07;  \n",
        "\n",
        "print(f\"Categoría= {CATE}, SUELDO= {SUE}\")    \n"
      ],
      "execution_count": 1,
      "outputs": [
        {
          "output_type": "stream",
          "name": "stdout",
          "text": [
            "Produce la categoría:3\n",
            "Introduce el sueldo:3800\n",
            "Categoría= 3, SUELDO= 4104.0\n"
          ]
        }
      ]
    },
    {
      "cell_type": "code",
      "metadata": {
        "colab": {
          "base_uri": "https://localhost:8080/"
        },
        "id": "ZOLBO8pk86pc",
        "outputId": "cdf5e295-4736-40fb-ac6c-2a1a7347b169"
      },
      "source": [
        "#EJEMPLO 2.12\n",
        "A= int(input(\"Escribe un numero entero:\"))\n",
        "B= int(input(\"Escribe otro numero entero:\"))\n",
        "C= int(input(\"Escribe un numero entero diferente:\"))\n",
        "\n",
        "if A>B: \n",
        "    if A>C:\n",
        "        if B>C:\n",
        "            print(f\"Los números de mayor a menor son: {A}, {B}, {C}\")\n",
        "        else:\n",
        "            print(f\"Los números de mayor a menor son: {A}, {C}, {B}\")\n",
        "    else:\n",
        "        print(f\"Los números de mayor menor son: {C}, {A}, {B}\")\n",
        "else:\n",
        "    if B>C:\n",
        "        if A>C:\n",
        "            print(f\" Los números de mayor a menor son: {B}, {A}, {C}\")\n",
        "        else:\n",
        "            print(f\"Los números de mayor a menor son: {B}, {C}, {A}\")\n",
        "    else:\n",
        "        print(f\" Los números de mayor a menor son: {C}, {B}, {A}\")\n",
        "\n"
      ],
      "execution_count": 6,
      "outputs": [
        {
          "output_type": "stream",
          "name": "stdout",
          "text": [
            "Escribe un numero entero:12\n",
            "Escribe otro numero entero:100\n",
            "Escribe un numero entero diferente:34\n",
            "Los números de mayor a menor son: 100, 34, 12\n"
          ]
        }
      ]
    },
    {
      "cell_type": "markdown",
      "metadata": {
        "id": "jzOJvkRfBONu"
      },
      "source": [
        "###Tarea \n",
        "Hacer los ejercicios de 2.1 (pág. 77) hasta el 2.13 (pág.102) "
      ]
    },
    {
      "cell_type": "code",
      "metadata": {
        "colab": {
          "base_uri": "https://localhost:8080/"
        },
        "id": "T7AZ94g7BNE7",
        "outputId": "586166ed-e688-4659-86d5-f0a44b948811"
      },
      "source": [
        "#Problema 2.14\n",
        "\n",
        "TIPOENF = int(input(\"Introduce el tipo de enfermedad:\"))\n",
        "EDAD = int(input(\"Introduce la edad:\"))\n",
        "DIAS = int(input(\"Introduce el número de días:\"))\n",
        "COSTO = 0.0\n",
        "\n",
        "if TIPOENF == 1:\n",
        "    COSTO = DIAS * 25.0\n",
        "elif TIPOENF ==2:\n",
        "    COSTO = DIAS * 16.0\n",
        "elif TIPOENF ==3:\n",
        "    COSTO = DIAS * 20.0        \n",
        "elif TIPOENF ==4:\n",
        "    COSTO = DIAS * 32.0\n",
        "\n",
        "if EDAD >= 14 and EDAD <= 22:\n",
        "    COSTO = COSTO *1.10\n",
        "\n",
        "print(\"Costo total =$\" , COSTO)  \n",
        "print(f\"Se pago ${COSTO} pesos por {DIAS} dias de estancia\") #Lo mismo pero con\n",
        "#formato \"f\".  "
      ],
      "execution_count": 9,
      "outputs": [
        {
          "output_type": "stream",
          "name": "stdout",
          "text": [
            "Introduce el tipo de enfermedad:3\n",
            "Introduce la edad:35\n",
            "Introduce el número de días:4\n",
            "Costo total =$ 80.0\n",
            "Se pago $80.0 pesos por 4 dias de estancia\n"
          ]
        }
      ]
    }
  ]
}